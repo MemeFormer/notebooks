{
 "cells": [
  {
   "cell_type": "markdown",
   "metadata": {
    "id": "EUYMLmXAF3W1"
   },
   "source": [
    "# A ReAct agent with Command R+, achieving the same goals as Adaptive RAG | Add the custom tools\n",
    "\n",
    "Adaptive RAG is a strategy for RAG that unites (1) [query analysis](https://blog.langchain.dev/query-construction/) with (2) [active / self-corrective RAG](https://blog.langchain.dev/agentic-rag-with-langgraph/).\n",
    "\n",
    "In the paper, they report query analysis to route across:\n",
    "- No Retrieval (LLM answers)\n",
    "- Single-shot RAG\n",
    "- Iterative RAG\n",
    "\n",
    "\n",
    "We'll use Command R+, a recent release from Cohere that:\n",
    "- Has strong accuracy on RAG, Tool Use and Agents\n",
    "- Has 128k context\n"
   ]
  },
  {
   "cell_type": "markdown",
   "metadata": {
    "id": "W8yvOB2MQp07"
   },
   "source": [
    "# Environment"
   ]
  },
  {
   "cell_type": "code",
   "execution_count": 1,
   "metadata": {
    "colab": {
     "base_uri": "https://localhost:8080/"
    },
    "id": "ujQVUvA9QlD4",
    "outputId": "230c6a56-3ee3-4e0d-95af-2a261b8541d6"
   },
   "outputs": [
    {
     "name": "stdout",
     "output_type": "stream",
     "text": [
      "Note: you may need to restart the kernel to use updated packages.\n"
     ]
    }
   ],
   "source": [
    "%pip install --quiet langchain langchain_cohere tiktoken faiss-cpu beautifulsoup4 langchain_experimental matplotlib tabulate"
   ]
  },
  {
   "cell_type": "markdown",
   "metadata": {},
   "source": [
    "Save your credentials in a .env file in your user root directory, so that you can retrieve securely"
   ]
  },
  {
   "cell_type": "code",
   "execution_count": 2,
   "metadata": {},
   "outputs": [],
   "source": [
    "import os\n",
    "from dotenv import load_dotenv\n",
    "load_dotenv()\n",
    "\n",
    "COHERE_API_KEY = os.environ.get(\"COHERE_API_KEY\")\n",
    "TAVILY_API_KEY = os.environ.get(\"TAVILY_API_KEY\") # Get your Free API key at https://app.tavily.com once you sign up\n",
    "FMP_API_KEY = os.environ.get(\"FMP_API_KEY\") # Get your Free API key https://site.financialmodelingprep.com/ once you sign up"
   ]
  },
  {
   "cell_type": "markdown",
   "metadata": {
    "id": "k3mrKxSsTfXO"
   },
   "source": [
    "# Create tools\n",
    "The ReAct agent will be equipped with these tools. The model can pick between\n",
    "- web search\n",
    "- RAG: retrieval from a vector store\n",
    "- custome tool (call an external API)\n",
    "- directly answering\n",
    "\n",
    "The model can use any of these tools, in any sequence of steps, and self-reflect."
   ]
  },
  {
   "cell_type": "markdown",
   "metadata": {
    "id": "4kGUB4IRF3W5"
   },
   "source": [
    "### Web search tool"
   ]
  },
  {
   "cell_type": "code",
   "execution_count": 3,
   "metadata": {
    "id": "hYsJgVY0F3W5"
   },
   "outputs": [],
   "source": [
    "from langchain_community.tools.tavily_search import TavilySearchResults\n",
    "from langchain_core.pydantic_v1 import BaseModel, Field\n",
    "\n",
    "internet_search = TavilySearchResults()\n",
    "internet_search.name = \"internet_search\"\n",
    "internet_search.description = \"Returns a list of relevant document snippets for a textual query retrieved from the internet.\"\n",
    "\n",
    "\n",
    "class TavilySearchInput(BaseModel):\n",
    "    query: str = Field(description=\"Query to search the internet with\")\n",
    "\n",
    "\n",
    "internet_search.args_schema = TavilySearchInput"
   ]
  },
  {
   "cell_type": "markdown",
   "metadata": {},
   "source": [
    "### Python interpreter tool"
   ]
  },
  {
   "cell_type": "code",
   "execution_count": 4,
   "metadata": {},
   "outputs": [],
   "source": [
    "from langchain.agents import Tool\n",
    "from langchain_experimental.utilities import PythonREPL\n",
    "\n",
    "python_repl = PythonREPL()\n",
    "repl_tool = Tool(\n",
    "    name=\"python_repl\",\n",
    "    description=\"Executes python code and returns the result. The code runs in a static sandbox without interactive mode, so print output or save output to a file.\",\n",
    "    func=python_repl.run,\n",
    ")\n",
    "repl_tool.name = \"python_interpreter\"\n",
    "\n",
    "# from langchain_core.pydantic_v1 import BaseModel, Field\n",
    "class ToolInput(BaseModel):\n",
    "    code: str = Field(description=\"Python code to execute.\")\n",
    "repl_tool.args_schema = ToolInput"
   ]
  },
  {
   "cell_type": "markdown",
   "metadata": {
    "id": "NxDa_Em0tuas"
   },
   "source": [
    "### RAG tool"
   ]
  },
  {
   "cell_type": "code",
   "execution_count": 5,
   "metadata": {
    "id": "0QyahrNPtwEi"
   },
   "outputs": [],
   "source": [
    "from langchain.text_splitter import RecursiveCharacterTextSplitter\n",
    "from langchain_cohere import CohereEmbeddings\n",
    "from langchain_community.document_loaders import WebBaseLoader\n",
    "from langchain_community.vectorstores import FAISS\n",
    "\n",
    "# Set embeddings\n",
    "embd = CohereEmbeddings()\n",
    "\n",
    "# Docs to index\n",
    "urls = [\n",
    "    \"https://www.mayerbrown.com/en/insights/publications/2023/03/new-data-standards-pending-for-federally-regulated-financial-entities\",\n",
    "    \"https://plaid.com/resources/open-finance/what-is-fdx/\",\n",
    "    \"https://www.egnyte.com/guides/financial-services/financial-data-compliance\",\n",
    "]\n",
    "\n",
    "# Load\n",
    "docs = [WebBaseLoader(url).load() for url in urls]\n",
    "docs_list = [item for sublist in docs for item in sublist]\n",
    "\n",
    "# Split\n",
    "text_splitter = RecursiveCharacterTextSplitter.from_tiktoken_encoder(\n",
    "    chunk_size=512, chunk_overlap=0\n",
    ")\n",
    "doc_splits = text_splitter.split_documents(docs_list)\n",
    "\n",
    "# Add to vectorstore\n",
    "vectorstore = FAISS.from_documents(\n",
    "    documents=doc_splits,\n",
    "    embedding=embd,\n",
    ")\n",
    "\n",
    "vectorstore_retriever = vectorstore.as_retriever()"
   ]
  },
  {
   "cell_type": "code",
   "execution_count": 6,
   "metadata": {
    "id": "eoa3toXfdGkI"
   },
   "outputs": [],
   "source": [
    "from langchain.tools.retriever import create_retriever_tool\n",
    "\n",
    "vectorstore_search = create_retriever_tool(\n",
    "    retriever=vectorstore_retriever,\n",
    "    name=\"vectorstore_search\",\n",
    "    description=\"Retrieve relevant info from a vectorstore that contains documents related to Data Compliance for Financial Services and its regulation.\",\n",
    ")"
   ]
  },
  {
   "cell_type": "markdown",
   "metadata": {},
   "source": [
    "### Custom Tool For Market Capitalization\n",
    "\n"
   ]
  },
  {
   "cell_type": "markdown",
   "metadata": {},
   "source": [
    "Define the function"
   ]
  },
  {
   "cell_type": "code",
   "execution_count": 7,
   "metadata": {},
   "outputs": [],
   "source": [
    "import requests\n",
    "\n",
    "# Function to get the market capitalization of a ticker symbol\n",
    "def get_market_cap(ticker):\n",
    "    url = f\"https://financialmodelingprep.com/api/v3/market-capitalization/{ticker}?apikey={FMP_API_KEY}\"\n",
    "    response = requests.get(url)\n",
    "    if response.status_code == 200:\n",
    "        data = response.json()\n",
    "        if data and isinstance(data, list) and len(data) > 0:\n",
    "            market_cap = data[0].get('marketCap', 'No market cap data available')\n",
    "            return [{'id': 0, 'text': f'Market cap for {ticker}: ${market_cap}'}]\n",
    "        else:\n",
    "            return \"No data available for the specified ticker.\"\n",
    "    else:\n",
    "        return \"Failed to retrieve data from the API.\""
   ]
  },
  {
   "cell_type": "markdown",
   "metadata": {},
   "source": [
    "### Define Custom Tool"
   ]
  },
  {
   "cell_type": "code",
   "execution_count": 8,
   "metadata": {},
   "outputs": [],
   "source": [
    "from langchain.tools import tool\n",
    "\n",
    "@tool\n",
    "def market_cap(ticker: str) -> list:\n",
    "    \"\"\"This tool is only used to find market capitalization. Do not use it for anything else. Find the ticker when asked about capitalization. The ticker symbol of the company (e.g., AAPL which is the ticker for Apple Inc, MSFT for Microsoft )\"\"\"\n",
    "    return get_market_cap(ticker)\n",
    "    "
   ]
  },
  {
   "cell_type": "markdown",
   "metadata": {
    "id": "2ENQAfYXRG9Q"
   },
   "source": [
    "# Create the ReAct Agent\n",
    "The model can smartly pick the right tool(s) for the user query, call them in any sequence of steps, analyze the results and self-reflect."
   ]
  },
  {
   "cell_type": "code",
   "execution_count": 9,
   "metadata": {
    "id": "hx-Ew1i5F3W4"
   },
   "outputs": [],
   "source": [
    "from langchain.agents import AgentExecutor\n",
    "from langchain_cohere.react_multi_hop.agent import create_cohere_react_agent\n",
    "from langchain_core.prompts import ChatPromptTemplate"
   ]
  },
  {
   "cell_type": "code",
   "execution_count": 10,
   "metadata": {
    "id": "BPo3ZIHkF3W4"
   },
   "outputs": [],
   "source": [
    "# LLM\n",
    "from langchain_cohere.chat_models import ChatCohere\n",
    "\n",
    "chat = ChatCohere(model=\"command-r-plus\", temperature=0.3)\n",
    "\n",
    "# Preamble\n",
    "preamble = \"\"\"\n",
    "Use all tools that are available to answear the question. \n",
    "If the query covers the topics of Federal Financial Institutions, use the vectorstore search first.\n",
    "If the query covers market capitalization, use the market cap tool first.\n",
    "You are equipped with an internet search tool, and python interpreter, a market cap api, and a special vectorstore of information about Data Compliance for Financial Services.\n",
    "\n",
    "\"\"\"\n",
    "\n",
    "# Prompt\n",
    "prompt = ChatPromptTemplate.from_template(\"{input}\")\n",
    "\n",
    "# Create the ReAct agent\n",
    "agent = create_cohere_react_agent(\n",
    "    llm=chat,\n",
    "    tools=[vectorstore_search, internet_search, repl_tool, market_cap],\n",
    "    prompt=prompt,\n",
    ")"
   ]
  },
  {
   "cell_type": "code",
   "execution_count": 11,
   "metadata": {
    "id": "dks-7TGGtdLE"
   },
   "outputs": [],
   "source": [
    "agent_executor = AgentExecutor(\n",
    "    agent=agent, tools=[vectorstore_search, internet_search, repl_tool, market_cap], verbose=True\n",
    ")"
   ]
  },
  {
   "cell_type": "markdown",
   "metadata": {
    "id": "v7L1aBHds1pj"
   },
   "source": [
    "# Testing the ReAct agent"
   ]
  },
  {
   "cell_type": "markdown",
   "metadata": {
    "id": "ibo31dsHEjPv"
   },
   "source": [
    "**Let's ask a question that requires web search.**"
   ]
  },
  {
   "cell_type": "code",
   "execution_count": 12,
   "metadata": {
    "colab": {
     "base_uri": "https://localhost:8080/"
    },
    "id": "Jl0JNX2TF3W5",
    "outputId": "2ccb747c-e702-4473-f587-47271e0c71b2"
   },
   "outputs": [
    {
     "name": "stdout",
     "output_type": "stream",
     "text": [
      "\n",
      "\n",
      "\u001b[1m> Entering new AgentExecutor chain...\u001b[0m\n",
      "\u001b[32;1m\u001b[1;3m\n",
      "I will search for the primary functions of the Federal Financial Institutions Examination Council (FFIEC) in the vector store.\n",
      "{'tool_name': 'vectorstore_search', 'parameters': {'query': 'primary functions of the Federal Financial Institutions Examination Council (FFIEC)?'}}\n",
      "\u001b[0m\u001b[36;1m\u001b[1;3mcybersecurity by implementing best practices and employing proven cybersecurity frameworks. The importance of financial data compliance continues to grow as regulations continue to expand globally to ensure that customers’ personal information and finances are protected from theft and fraud.Advantages of Financial Data Compliance and Cost of Non-ComplianceBenefits of financial data complianceNot following financial data complianceView of the most critical data and systemsPlan for cybersecurity tools and practicesProtection of valuable informationRapid response to cybersecurity incidentsOperational disruptionsReputational damageCivil and criminal lawsuitsFines and losses due to cybersecurity incidentsTop Five Data Compliances for Financial ServicesFive Most Important United States Drivers for Financial Data Compliance1. Commodities Future Trading Commission (CFTC)The CFTC oversees the U.S. derivatives markets, including futures contracts, options, and over-the-counter (OTC) markets. While the rules that the CFTC has oversight of were part of the Commodities Exchange Act (CEA), which was passed in 1936, the Commission itself was established in 1974 by the passage of the Commodities Futures Trading Commission Act. The mission of the CFTC is to enforce laws, rules, and regulations within the derivatives markets it oversees to help ensure that firms and individuals operating in such markets provide legally required privacy rights to their consumers and promote the integrity, resilience, and vibrancy of the U.S. derivatives markets through sound regulation.2. Federal Deposit Insurance Corporation (FDIC)The FDIC provides deposit insurance of at least $250,000 for accounts with banks and thrift institutions. The FDIC aims to preserve and promote the public’s confidence in the U.S. financial system by providing deposit insurance. The FDIC is also responsible for enforcing financial data compliance as part of its mandate to ensure that banks comply with consumer data protection laws, including the Gramm-Leach-Bliley Act, which includes data security directives.3. Federal ReserveThe Federal Reserve Banking System provides guidance on managing outsourcing risk, including data for all financial institutions supervised by the Federal Reserve. It is also responsible for supervising, monitoring, inspecting, and examining institutions’ financial data compliance to ensure that they adhere to the necessary rules and regulations, including those published by the Federal Financial Institutions Examination Council (FFIEC) and Section 501 of the Gramm-Leach-Bliley Act (GLBA), regarding safeguards for customer data.4. Federal Financial Institutions Examination Council (FFIEC)The Federal Financial Institutions Examination Council is a\n",
      "\n",
      "five-member U.S. government interagency body. It consists of five banking regulators and is responsible for uniformity in the guidelines and supervision of financial institutions, including financial data compliance. It includes financial data management mandates, such as directing how organizations should govern the secure storage of all types of sensitive information, whether on computer systems, physical media, or hard-copy documents.5. Financial Industry Regulatory Authority (FINRA) SEC Rules 17a-4The Securities and Exchange Commission (SEC) requires broker-dealers to adhere to numerous financial data compliance regulations, including SEC Rule 17a-4(f)(3)(vii), which includes strict mandates on how electronic data must be stored, how it can be accessed, and how and when the archiving process should be reviewed. Several additional U.S. drivers for financial data compliance include the following:Dodd-Frank Wall Street Reform and Consumer Protection Act (Dodd-Frank)The Dodd-Frank Act was enacted in 2010 to facilitate financial stability by augmenting transparency and accountability. Financial data compliance requirements include specific directives related to email. To adhere to Dodd-Frank financial data compliance requirements related to communication, financial organizations must take steps to preserve email communication within proscribed periods of time with redundancy and other procedures to ensure that it is protected.  Office for the Comptroller of the Currency (OCC) The Office for the Comptroller of the Currency (OCC) is an independent bureau of the U.S. Department of the Treasury that charters, regulates, and supervises all national banks and federal savings associations, as well as federal branches and agencies of foreign banks. As part of its charter to protect consumers, the OCC enforces federal data compliance regulations, such as FFIEC, GLBA, and the Privacy Act of 1974.Securities Exchange Commission (SEC)The Securities Exchange Commission (SEC) protects investors by ensuring the maintenance of fair, orderly, and efficient markets and facilitating capital formation. The SEC Cybersecurity Rule 2023 requires that market entities (e.g., broker-dealers, national securities exchanges) establish, maintain, and enforce written policies and procedures that are reasonably designed to address their cybersecurity risks. With regard to financial data compliance, the SEC requires any data breach that compromises the confidentiality, integrity, or availability of an information asset.Sarbanes-Oxley Act (SOX)SOX focuses on how organizations disclose and record their financial information. Financial data compliance provisions dictate that organizations must install cybersecurity to protect financial\n",
      "\n",
      "are important for many reasons, including:Avoids financial losses due to operational disruption caused by a cyber attackEliminates the risk of fines and other penalties for non-complianceEnsures the protection of sensitive and personal informationProtects organizations’ reputations by minimizing the chance of a security incident that must be reportedLimitations of Compliance LawsThere are many limitations to financial data compliance laws. Five of the ones that regulators struggle to stay ahead of are:1. Constantly morphing attack strategies and vectors  2. Data privacy and security challenges   3. Employee and third-party misconduct—accidental and malicious4. Lack of corporate governance5. Loopholes that enable money laundering, insider trading, and other types of market abuseOther Standards and Frameworks to KnowAnti-Money Laundering (AML)AML prevents illegally passing obtained funds through a complex system in order to make the funds appear legitimate and legal. The Financial Crimes Enforcement Network (FinCEN) oversees government efforts to combat money laundering in the U.S. FinCEN detects, prevents, and deters money laundering and terrorist financing. Financial data compliance best practices help organizations identify suspicious activity that could indicate money laundering.  Know Your Client, Know Your Customer (KYC)KYC is a standard practice that requires financial institutions to be able to identify the client they are working with, ensure the client is who they say they are, know the client’s tolerance to risk, and be aware of the client’s financial position. Financial data compliance requires financial institutions that collect and store KYC data to ensure that customer data (e.g., biometric or non-biometric personal data) is protected and not at risk of unauthorized access or exfiltration. Payment Card Industry Data Security Standard (PCI DSS)PCI DSS is a series of financial data compliance security guidelines to safeguard consumer data. It standardizes how cardholder data is processed, stored, and transmitted. These regulations are set forth by the Federal Trade Commission, which governs the distribution of private financial information.This financial data compliance regulation includes rules that require financial institutions to keep customers informed of any data-sharing practices in which they engage. PCI DSS also requires financial institutions to provide customers with educational materials explaining how they can opt out of these data-sharing practices. Data encryption and key management are key parts of PCI DSS financial data compliance.National Institute of Standards and Technology Cybersecurity Framework The NIST Cybersecurity Framework provides recommendations for\n",
      "\n",
      "DemoPartnersBUSINESS PARTNERSChannel PartnersMSP ProgramTECHNOLOGY PARTNERSGoogle WorkspaceMicrosoft 365SalesforceAll Apps and IntegrationsDeveloper's Toolkit Login Start Free Trial Get DemoResourcesPRODUCT HELPUniversityHelp DeskADDITIONAL RESOURCESBlogResource CenterGuidesEventsCase Studies Login Start Free Trial Get DemoCompanyCOMPANYAbout UsCareersContact Us Login Start Free Trial Get DemoSolutionsUse CasesPartnersResourcesCompanyPricing Login Start Free Trial Get Demo       Submitted by  on Tue, 11/14/2023 - 06:23 Home > Data Compliance for Financial ServicesData Compliance for Financial ServicesShare this PageLet’s jump in and learn:What Is Financial Compliance?Top Five Data Compliances for Financial ServicesExamples of the United Kingdom (U.K.) and European Union (E.U.) Drivers for Financial Data ComplianceWhy are Compliance Laws Important?Limitations of Compliance LawsTips for Complying with Data Security RegulationsFinancial Data Compliance Improves Overall SecurityWhat Is Financial Compliance?Financial compliance is financial institutions’ (e.g., financial services organizations, capital markets) adherence to internal and external rules set forth by governments, industry groups, and internal governance policies. Financial data compliance is a governance structure focused on data protection that ensures that an organization complies with laws, regulations, and standards around its data. Financial data compliance includes processes and security tools to govern and secure the possession, organization, storage, and management of digital assets or data to prevent loss, theft, misuse, or compromise. Different financial data compliance regulations specify the types of data that require protection and, in some cases, direct what should be done to ensure its security.The growing stringency of financial data compliance requirements also pushes organizations to rethink updating legacy security systems.Origin of Financial ComplianceThe term was first used by the Basel Committee on Banking Supervision (BCBS, the primary global standard setter for the prudential regulation of banks) in 2005. In its document “Compliance and the compliance function in banks,” the body defines compliance, “The expression compliance risk is defined in this paper as the risk of legal or regulatory sanctions, material financial loss, or loss to reputation a bank may suffer as a result of its failure to comply with laws, regulations, rules, related self-regulatory organization standards, and codes of conduct applicable to its banking activities.”Financial data compliance helps organizations prevent legal issues and financial losses and improve overall\u001b[0m\u001b[32;1m\u001b[1;3mRelevant Documents: 0\n",
      "Cited Documents: 0\n",
      "Answer: The Federal Financial Institutions Examination Council (FFIEC) is a five-member U.S. government interagency body. It consists of five banking regulators and is responsible for uniformity in the guidelines and supervision of financial institutions, including financial data compliance. It includes financial data management mandates, such as directing how organisations should govern the secure storage of all types of sensitive information, whether on computer systems, physical media, or hard-copy documents.\n",
      "Grounded answer: The Federal Financial Institutions Examination Council (FFIEC) is a <co: 0>five-member U.S. government interagency body</co: 0>. It consists of <co: 0>five banking regulators</co: 0> and is responsible for <co: 0>uniformity in the guidelines and supervision of financial institutions</co: 0>, including <co: 0>financial data compliance</co: 0>. It includes <co: 0>financial data management mandates</co: 0>, such as <co: 0>directing how organisations should govern the secure storage of all types of sensitive information</co: 0>, whether on <co: 0>computer systems, physical media, or hard-copy documents</co: 0>.\u001b[0m\n",
      "\n",
      "\u001b[1m> Finished chain.\u001b[0m\n"
     ]
    }
   ],
   "source": [
    "result = agent_executor.invoke(\n",
    "    {\n",
    "        \"input\": \"What are the primary functions of the Federal Financial Institutions Examination Council (FFIEC)?\",\n",
    "        \"preamble\": preamble,\n",
    "    }\n",
    ")"
   ]
  },
  {
   "cell_type": "code",
   "execution_count": null,
   "metadata": {},
   "outputs": [],
   "source": [
    "print(f\"\"\"\n",
    "{result[\"output\"]}\n",
    "\"\"\")"
   ]
  },
  {
   "cell_type": "markdown",
   "metadata": {
    "id": "lKkxSvJmEn8Z"
   },
   "source": [
    "**Let's ask a question that requires RAG retrieval from the vector db.**"
   ]
  },
  {
   "cell_type": "code",
   "execution_count": 14,
   "metadata": {
    "colab": {
     "base_uri": "https://localhost:8080/"
    },
    "id": "AW_8C7mszsVE",
    "outputId": "9be7067f-a776-4688-8864-db873d1fb65a"
   },
   "outputs": [
    {
     "name": "stdout",
     "output_type": "stream",
     "text": [
      "\n",
      "\n",
      "\u001b[1m> Entering new AgentExecutor chain...\u001b[0m\n",
      "\u001b[32;1m\u001b[1;3m\n",
      "I will search for how the current interest rate environment affects the bond market.\n",
      "{'tool_name': 'internet_search', 'parameters': {'query': 'How does the current interest rate environment affect the bond market?'}}\n",
      "\u001b[0m\u001b[33;1m\u001b[1;3m[{'url': 'https://investor.vanguard.com/investor-resources-education/article/how-rising-interest-rates-affect-bond-funds', 'content': \"Most of the time it's lower because SEC yield reflects fund fees.2\\xa0Given these dynamics, it’s helpful to look to the SEC yield as a reasonable forward-looking picture of the current income of the fund, based on current market value.\\n… and distribution yield\\nThen there’s a bond fund’s distribution yield, which is important because it reflects what the fund’s monthly distributions are.3\\nThe challenge is that VGSH's distribution yield as of May 31, 2022, was 0.57%—well below both the 2.53% that individual 2-year notes were yielding and the 2.53% SEC yield as of that date. (The average effective maturity and the average duration of VGSH were 1.9 years and 2.0\\nYield measure\\nVGSH SEC yield\\nOctober 2021\\n0.34%\\nMay 2022\\n2.53%\\nImpact of rising rates on yield metrics\\nChanges in the SEC yield for VGSH typically follow the YTM because of the nature of the calculation. Yield measure\\nVGSH YTM\\nOctober 2021\\n0.49%\\nMay 2022\\n2.48%\\nImpact of rising rates on yield metrics\\nThe yield to maturity (YTM) for VGSH closely tracks the 2-year Treasury yield given the proximity of the fund’s overall composition to the 2-year key rate. Yield measure\\nVGSH distribution yield\\nOctober 2021\\n0.28%\\nMay 2022\\n0.57%\\nImpact of rising rates on yield metrics\\nThe yield measure that lags most, the ETF’s distribution yield, hasn’t yet caught up with the rise in rates. More broadly, the Bloomberg U.S. Aggregate Float Adjusted Bond Index fell by as much as 12.7% year-to-date through June 14, 2022—the most it’s lost in this short a time in 40 years.1\\nTreasury yield curve change from year-end 2021 to end of 2022\\nNote:\\xa0Data includes the rate hike in December 2022 and subsequent market reaction.\\n\"}, {'url': 'https://www.williamblair.com/Insights/How-Are-Rising-Interest-Rates-Affecting-the-Bond-Market', 'content': \"Since the Fed began raising its target interest rate last year, rates have jumped to a 5%-5.25% range from near zero in March 2022, the fastest pace of increase in four decades. The rate hike cycle has impacted and continues to impact how investors are analyzing risk/reward trade-offs. Last year, the Fed's aggressive increase weighed on the ...\"}, {'url': 'https://www.usbank.com/investing/financial-perspectives/market-news/interest-rates-affect-bonds.html', 'content': 'Personal\\nBank accounts\\nCredit cards\\nInvesting and retirement\\nPersonal loans & lines\\nHome loans\\nVehicle loans\\nMobile and online\\nExplore personal banking\\nWealth Management\\nOur services\\nInvesting\\nYour goals\\nAdvisors & wealth teams\\nPrivate Wealth Management\\nOur perspectives\\nExplore Wealth Management\\nBusiness\\nExplore business banking\\nBusiness bank accounts\\nBusiness credit cards\\nBusiness loans and lines\\nBusiness services\\nBusiness payments\\nBusiness industry expertise\\nExplore business resources\\nOnline & mobile banking\\nCorporate & Commercial\\nExplore Even after the recent yield decline, year-to-date total returns reflect a gain of 4.2% according to the Bloomberg U.S. Aggregate Bond Index through mid-December 2023.3\\nInverted yield curve persists\\nA phenomenon that developed in 2022 and continues in 2023 is the unusual shape of the yield curve representing different bond maturities. The Fed sought to slow the economy as a way to reduce inflation, which peaked at 9.1% for the 12 months ending June 2022, but dropped to less than 3.1% by November 2023.2\\nWhat should investors expect from the bond market in 2024 and what does that say about how to incorporate or adjust strategies for fixed-income portfolios?\\n Article\\nHow changing interest rates impact the bond market\\nDecember 18, 2023\\nWebinar\\n2024 Investment Outlook – Jan. 24\\nExploring the impact of today’s interest rates and the 2024 presidential election on your investments.\\n In fact, the economy generated solid growth as measured by Gross Domestic Product (GDP) and surprised many forecasters by expanding at an annualized rate of 5.2% in the third quarter of 2023.4\\nKeeping an eye on the Fed\\nThe Fed remains focused on fighting inflation but may be about to modify its interest rate policy.'}, {'url': 'https://www.investopedia.com/articles/bonds/09/bond-market-interest-rates.asp', 'content': \"Interest rate risk is the risk of changes in a bond's price due to changes in prevailing interest rates. Changes in short-term versus long-term interest rates can affect various bonds in different ...\"}, {'url': 'https://investor.vanguard.com/investor-resources-education/news/the-dynamics-of-bond-duration-and-rising-rates', 'content': \"When the investment horizon is longer than the bond's duration, however, higher yields on reinvested cash flow outweigh the market price decline. Over a period of 15, 20, or 25 years, interest rate rises of 100 and 200 basis points result in an improvement in total returns. (The inverse is true for total returns when interest rates decline.\"}]\u001b[0m\u001b[32;1m\u001b[1;3mRelevant Documents: 0,1,2,3,4\n",
      "Cited Documents: 0,1,2,3,4\n",
      "Answer: Interest rate risk is the risk of changes in a bond's price due to changes in prevailing interest rates. When interest rates rise, the yield on a bond fund increases, which can cause the market price of the bond to decline. The Fed's interest rate policy can impact how investors analyse risk/reward trade-offs.\n",
      "Grounded answer: <co: 3>Interest rate risk</co: 3> is the <co: 3>risk of changes in a bond's price due to changes in prevailing interest rates</co: 3>. When <co: 0,4>interest rates rise</co: 0,4>, the <co: 0>yield on a bond fund increases</co: 0>, which can cause the <co: 0,4>market price of the bond to decline</co: 0,4>. The <co: 1,2>Fed's interest rate policy</co: 1,2> can <co: 1>impact how investors analyse risk/reward trade-offs</co: 1>.\u001b[0m\n",
      "\n",
      "\u001b[1m> Finished chain.\u001b[0m\n"
     ]
    }
   ],
   "source": [
    "result = agent_executor.invoke(\n",
    "    {\n",
    "        \"input\": \"How does the current interest rate environment affect the bond market?\",\n",
    "        \"preamble\": preamble,\n",
    "    }\n",
    ")"
   ]
  },
  {
   "cell_type": "code",
   "execution_count": 15,
   "metadata": {},
   "outputs": [
    {
     "data": {
      "text/plain": [
       "\"Interest rate risk is the risk of changes in a bond's price due to changes in prevailing interest rates. When interest rates rise, the yield on a bond fund increases, which can cause the market price of the bond to decline. The Fed's interest rate policy can impact how investors analyse risk/reward trade-offs.\""
      ]
     },
     "execution_count": 15,
     "metadata": {},
     "output_type": "execute_result"
    }
   ],
   "source": [
    "print(f\"\"\"\n",
    "{result[\"output\"]}\n",
    "\"\"\")"
   ]
  },
  {
   "cell_type": "markdown",
   "metadata": {},
   "source": [
    "**Let's ask a question that requires Market Cap.**"
   ]
  },
  {
   "cell_type": "code",
   "execution_count": 16,
   "metadata": {},
   "outputs": [
    {
     "name": "stdout",
     "output_type": "stream",
     "text": [
      "\n",
      "\n",
      "\u001b[1m> Entering new AgentExecutor chain...\u001b[0m\n",
      "\u001b[32;1m\u001b[1;3m\n",
      "I will use the market_cap tool to find the market capitalisation of Apple and Microsoft. Then, I will use Python to calculate the difference.\n",
      "{'tool_name': 'market_cap', 'parameters': {'ticker': 'AAPL'}}\n",
      "\u001b[0m\u001b[36;1m\u001b[1;3m[{'id': 0, 'text': 'Market cap for AAPL: $2694920388000'}]\u001b[0m\u001b[32;1m\u001b[1;3m\n",
      "{'tool_name': 'market_cap', 'parameters': {'ticker': 'MSFT'}}\n",
      "\u001b[0m\u001b[36;1m\u001b[1;3m[{'id': 0, 'text': 'Market cap for MSFT: $2975742611200'}]\u001b[0m"
     ]
    },
    {
     "name": "stderr",
     "output_type": "stream",
     "text": [
      "Python REPL can execute arbitrary code. Use with caution.\n"
     ]
    },
    {
     "name": "stdout",
     "output_type": "stream",
     "text": [
      "\u001b[32;1m\u001b[1;3m\n",
      "Apple's market capitalisation is $2694920388000 and Microsoft's is $2975742611200. Now, I will use Python to calculate the difference.\n",
      "{'tool_name': 'python_interpreter', 'parameters': {'code': 'apple_market_cap = 2694920388000\\nmicrosoft_market_cap = 2975742611200\\n\\ndifference = abs(apple_market_cap - microsoft_market_cap)\\n\\nprint(f\"The difference between Apple and Microsoft\\'s market capitalisation is {difference} dollars.\")'}}\n",
      "\u001b[0m\u001b[38;5;200m\u001b[1;3mThe difference between Apple and Microsoft's market capitalisation is 280822223200 dollars.\n",
      "\u001b[0m\u001b[32;1m\u001b[1;3mRelevant Documents: 0,1,2\n",
      "Cited Documents: 0,1,2\n",
      "Answer: Apple's market capitalisation is $2694920388000 and Microsoft's is $2975742611200. The difference between the two is $280822223200.\n",
      "Grounded answer: Apple's market capitalisation is <co: 0>$2694920388000</co: 0> and Microsoft's is <co: 1>$2975742611200</co: 1>. The difference between the two is <co: 2>$280822223200</co: 2>.\u001b[0m\n",
      "\n",
      "\u001b[1m> Finished chain.\u001b[0m\n"
     ]
    }
   ],
   "source": [
    "result = agent_executor.invoke(\n",
    "    {\n",
    "        \"input\": \"What is Apple capitalization compared to Microsoft? Calculate the difference\",\n",
    "         \"preamble\": preamble,\n",
    "    }\n",
    ")"
   ]
  },
  {
   "cell_type": "code",
   "execution_count": 17,
   "metadata": {},
   "outputs": [
    {
     "data": {
      "text/plain": [
       "\"Apple's market capitalisation is $2694920388000 and Microsoft's is $2975742611200. The difference between the two is $280822223200.\""
      ]
     },
     "execution_count": 17,
     "metadata": {},
     "output_type": "execute_result"
    }
   ],
   "source": [
    "print(f\"\"\"\n",
    "{result[\"output\"]}\n",
    "\"\"\")"
   ]
  },
  {
   "cell_type": "markdown",
   "metadata": {},
   "source": [
    "**Let's ask a question that requires Internet Search.**"
   ]
  },
  {
   "cell_type": "code",
   "execution_count": 18,
   "metadata": {},
   "outputs": [
    {
     "name": "stdout",
     "output_type": "stream",
     "text": [
      "\n",
      "\n",
      "\u001b[1m> Entering new AgentExecutor chain...\u001b[0m\n",
      "\u001b[32;1m\u001b[1;3m\n",
      "I will search for the share value of Microsoft stock today.\n",
      "{'tool_name': 'internet_search', 'parameters': {'query': 'Microsoft stock share value today'}}\n",
      "\u001b[0m\u001b[33;1m\u001b[1;3m[{'url': 'https://www.google.com/finance/quote/MSFT:NASDAQ', 'content': 'Stay updated on Microsoft Corp (MSFT) stock price, news, and analysis with Google Finance. Compare charts, financials, and performance with other Nasdaq-listed companies.'}, {'url': 'https://finance.yahoo.com/quote/MSFT/', 'content': 'Find the latest Microsoft Corporation (MSFT) stock quote, history, news and other vital information to help you with your stock trading and investing.'}, {'url': 'https://finance.yahoo.com/quote/MSFT;/', 'content': 'DELL. Date. Close. Open. High. Low. Volume. Find the latest Microsoft Corporation (MSFT;) stock quote, history, news and other vital information to help you with your stock trading and investing.'}, {'url': 'https://www.marketwatch.com/investing/stock/msft', 'content': 'It’s Microsoft vs. Google as the AI Battle Shifts to Your PC Desktop\\nNo Headlines Available\\nNo Headlines Available\\nNo Headlines Available\\nWhy Microsoft Stock Is Cheaper Than It Looks\\nMicrosoft’s Growth Trajectory and Buy Rating Reinforced by Cloud and AI Advancements\\nDollar Decline: Stock Market Rally Explains 70% Of Recent US Dollar Downtrend, Says BofA\\n10 Information Technology Stocks Whale Activity Overview\\nMSFT Overview\\nKey Data\\nPerformance\\nAnalyst Ratings\\nRecent News\\nMicrosoft Corp. stock outperforms market on strong trading day\\nTechnology\\nNvidia Stock Is Cheap on This Metric. The Productivity and Business Processes segment consists of Office Commercial (Office 365 subscriptions, the Office 365 portion of Microsoft 365 Commercial subscriptions, and Office licensed on-premises), Exchange, SharePoint, Microsoft Teams, Office 365 Security and Compliance, and Skype for Business, Office Consumer, including Microsoft 365 Consumer subscriptions, Office licensed on-premises, and other Office services, LinkedIn, including Talent Solutions, Marketing Solutions, Premium Subscriptions, Sales Solutions, and Learning Solutions, Dynamics business solutions, including Dynamics 365, comprising a set of intelligent, cloud-based applications across ERP, CRM, Customer Insights, Power Apps, and Power Automate, and on-premises ERP and CRM applications. The More Personal Computing segment consists of Windows, including Windows OEM licensing and other non-volume licensing of the Windows operating system, Windows Commercial, comprising volume licensing of the Windows operating system, Windows cloud services, and other Windows commercial offerings, patent licensing, and Windows Internet of Things, Devices, including Surface and PC accessories, Gaming, including Xbox hardware and Xbox content and services, comprising digital transactions, Xbox Game Pass and other subscriptions, video games, third-party video game royalties, cloud services, and advertising, Search and news advertising. Investors beware: ‘Magnificent Seven’ are starting to resemble ‘Nifty 50’ stocks that got crushed in the 1970s market crash\\nDividends\\nDividend Stocks Look Promising for 2024—With the Right Strategy\\nMicrosoft Corp. stock outperforms competitors on strong trading day\\nMarkets\\nBezos, Other Insiders Are Reducing Amazon Stakes.'}, {'url': 'https://www.cnn.com/markets/stocks/MSFT', 'content': 'The Productivity and Business Processes segment consists of Office Commercial (Office 365 subscriptions, the Office 365 portion of Microsoft 365 Commercial subscriptions, and Office licensed on-premises), Exchange, SharePoint, Microsoft Teams, Office 365 Security and Compliance, and Skype for Business, Office Consumer, including Microsoft 365 Consumer subscriptions, Office licensed on-premises, and other Office services, LinkedIn, including Talent Solutions, Marketing Solutions, Premium Subscriptions, Sales Solutions, and Learning Solutions, Dynamics business solutions, including Dynamics 365, comprising a set of intelligent, cloud-based applications across ERP, CRM, Customer Insights, Power Apps, and Power Automate, and on-premises ERP and CRM applications. The More Personal Computing segment consists of Windows, including Windows OEM licensing and other non-volume licensing of the Windows operating system, Windows Commercial, comprising volume licensing of the Windows operating system, Windows cloud services, and other Windows commercial offerings, patent licensing, and Windows Internet of Things, Devices, including Surface and PC accessories, Gaming, including Xbox hardware and Xbox content and services, comprising digital transactions, Xbox Game Pass and other subscriptions, video games, third-party video game royalties, cloud services, and advertising, Search and news advertising. The Intelligent Cloud segment consists of Server products and cloud services, including Azure and other cloud services, SQL Server, Windows Server, Visual Studio, System Center, and related Client Access Licenses (CALs), and Nuance and GitHub, Enterprise Services, including Enterprise Support Services, Microsoft Consulting Services, and Nuance professional services. Key terms\\nSmart score\\nLatest MSFT news\\nMSFT Financials\\n1-year income & revenue\\nKey terms\\nMSFT Forecasts\\nanalyst rating\\n1-year stock price forecast\\nMSFT Competitors\\nKey terms\\nLatest investing news\\nMost stock quote data provided by BATS. The Dow Jones branded indices are proprietary to and are calculated, distributed and marketed by DJI Opco, a subsidiary of S&P Dow Jones Indices LLC and have been licensed for use to S&P Opco, LLC and CNN.'}]\u001b[0m\u001b[32;1m\u001b[1;3m\n",
      "I was unable to find the share value of Microsoft stock today. I will now search for the share price of Microsoft stock today.\n",
      "{'tool_name': 'internet_search', 'parameters': {'query': 'Microsoft stock share price today'}}\n",
      "\u001b[0m\u001b[33;1m\u001b[1;3m[{'url': 'https://finance.yahoo.com/quote/MSFT/', 'content': 'Find the latest Microsoft Corporation (MSFT) stock quote, history, news and other vital information to help you with your stock trading and investing.'}, {'url': 'https://finance.yahoo.com/quote/MSFT;/', 'content': 'DELL. Date. Close. Open. High. Low. Volume. Find the latest Microsoft Corporation (MSFT;) stock quote, history, news and other vital information to help you with your stock trading and investing.'}, {'url': 'https://www.cnn.com/markets/stocks/MSFT', 'content': 'The Productivity and Business Processes segment consists of Office Commercial (Office 365 subscriptions, the Office 365 portion of Microsoft 365 Commercial subscriptions, and Office licensed on-premises), Exchange, SharePoint, Microsoft Teams, Office 365 Security and Compliance, and Skype for Business, Office Consumer, including Microsoft 365 Consumer subscriptions, Office licensed on-premises, and other Office services, LinkedIn, including Talent Solutions, Marketing Solutions, Premium Subscriptions, Sales Solutions, and Learning Solutions, Dynamics business solutions, including Dynamics 365, comprising a set of intelligent, cloud-based applications across ERP, CRM, Customer Insights, Power Apps, and Power Automate, and on-premises ERP and CRM applications. The More Personal Computing segment consists of Windows, including Windows OEM licensing and other non-volume licensing of the Windows operating system, Windows Commercial, comprising volume licensing of the Windows operating system, Windows cloud services, and other Windows commercial offerings, patent licensing, and Windows Internet of Things, Devices, including Surface and PC accessories, Gaming, including Xbox hardware and Xbox content and services, comprising digital transactions, Xbox Game Pass and other subscriptions, video games, third-party video game royalties, cloud services, and advertising, Search and news advertising. The Intelligent Cloud segment consists of Server products and cloud services, including Azure and other cloud services, SQL Server, Windows Server, Visual Studio, System Center, and related Client Access Licenses (CALs), and Nuance and GitHub, Enterprise Services, including Enterprise Support Services, Microsoft Consulting Services, and Nuance professional services. Key terms\\nSmart score\\nLatest MSFT news\\nMSFT Financials\\n1-year income & revenue\\nKey terms\\nMSFT Forecasts\\nanalyst rating\\n1-year stock price forecast\\nMSFT Competitors\\nKey terms\\nLatest investing news\\nMost stock quote data provided by BATS. The Dow Jones branded indices are proprietary to and are calculated, distributed and marketed by DJI Opco, a subsidiary of S&P Dow Jones Indices LLC and have been licensed for use to S&P Opco, LLC and CNN.'}, {'url': 'https://www.marketwatch.com/investing/stock/msft', 'content': 'It’s Microsoft vs. Google as the AI Battle Shifts to Your PC Desktop\\nNo Headlines Available\\nNo Headlines Available\\nNo Headlines Available\\nWhy Microsoft Stock Is Cheaper Than It Looks\\nMicrosoft’s Growth Trajectory and Buy Rating Reinforced by Cloud and AI Advancements\\nDollar Decline: Stock Market Rally Explains 70% Of Recent US Dollar Downtrend, Says BofA\\n10 Information Technology Stocks Whale Activity Overview\\nMSFT Overview\\nKey Data\\nPerformance\\nAnalyst Ratings\\nRecent News\\nMicrosoft Corp. stock outperforms market on strong trading day\\nTechnology\\nNvidia Stock Is Cheap on This Metric. The Productivity and Business Processes segment consists of Office Commercial (Office 365 subscriptions, the Office 365 portion of Microsoft 365 Commercial subscriptions, and Office licensed on-premises), Exchange, SharePoint, Microsoft Teams, Office 365 Security and Compliance, and Skype for Business, Office Consumer, including Microsoft 365 Consumer subscriptions, Office licensed on-premises, and other Office services, LinkedIn, including Talent Solutions, Marketing Solutions, Premium Subscriptions, Sales Solutions, and Learning Solutions, Dynamics business solutions, including Dynamics 365, comprising a set of intelligent, cloud-based applications across ERP, CRM, Customer Insights, Power Apps, and Power Automate, and on-premises ERP and CRM applications. The More Personal Computing segment consists of Windows, including Windows OEM licensing and other non-volume licensing of the Windows operating system, Windows Commercial, comprising volume licensing of the Windows operating system, Windows cloud services, and other Windows commercial offerings, patent licensing, and Windows Internet of Things, Devices, including Surface and PC accessories, Gaming, including Xbox hardware and Xbox content and services, comprising digital transactions, Xbox Game Pass and other subscriptions, video games, third-party video game royalties, cloud services, and advertising, Search and news advertising. Investors beware: ‘Magnificent Seven’ are starting to resemble ‘Nifty 50’ stocks that got crushed in the 1970s market crash\\nDividends\\nDividend Stocks Look Promising for 2024—With the Right Strategy\\nMicrosoft Corp. stock outperforms competitors on strong trading day\\nMarkets\\nBezos, Other Insiders Are Reducing Amazon Stakes.'}, {'url': 'https://www.google.com/finance/quote/MSFT:NASDAQ', 'content': 'Stay updated on Microsoft Corp (MSFT) stock price, news, and analysis with Google Finance. Compare charts, financials, and performance with other Nasdaq-listed companies.'}]\u001b[0m\u001b[32;1m\u001b[1;3m\n",
      "I was unable to find the share price of Microsoft stock today. I will now search for the share price of Microsoft stock.\n",
      "{'tool_name': 'internet_search', 'parameters': {'query': 'Microsoft stock share price'}}\n",
      "\u001b[0m\u001b[33;1m\u001b[1;3m[{'url': 'https://finance.yahoo.com/quote/MSFT/', 'content': 'Find the latest Microsoft Corporation (MSFT) stock quote, history, news and other vital information to help you with your stock trading and investing.'}, {'url': 'https://www.marketwatch.com/investing/stock/msft', 'content': 'It’s Microsoft vs. Google as the AI Battle Shifts to Your PC Desktop\\nNo Headlines Available\\nNo Headlines Available\\nNo Headlines Available\\nWhy Microsoft Stock Is Cheaper Than It Looks\\nMicrosoft’s Growth Trajectory and Buy Rating Reinforced by Cloud and AI Advancements\\nDollar Decline: Stock Market Rally Explains 70% Of Recent US Dollar Downtrend, Says BofA\\n10 Information Technology Stocks Whale Activity Overview\\nMSFT Overview\\nKey Data\\nPerformance\\nAnalyst Ratings\\nRecent News\\nMicrosoft Corp. stock outperforms market on strong trading day\\nTechnology\\nNvidia Stock Is Cheap on This Metric. The Productivity and Business Processes segment consists of Office Commercial (Office 365 subscriptions, the Office 365 portion of Microsoft 365 Commercial subscriptions, and Office licensed on-premises), Exchange, SharePoint, Microsoft Teams, Office 365 Security and Compliance, and Skype for Business, Office Consumer, including Microsoft 365 Consumer subscriptions, Office licensed on-premises, and other Office services, LinkedIn, including Talent Solutions, Marketing Solutions, Premium Subscriptions, Sales Solutions, and Learning Solutions, Dynamics business solutions, including Dynamics 365, comprising a set of intelligent, cloud-based applications across ERP, CRM, Customer Insights, Power Apps, and Power Automate, and on-premises ERP and CRM applications. The More Personal Computing segment consists of Windows, including Windows OEM licensing and other non-volume licensing of the Windows operating system, Windows Commercial, comprising volume licensing of the Windows operating system, Windows cloud services, and other Windows commercial offerings, patent licensing, and Windows Internet of Things, Devices, including Surface and PC accessories, Gaming, including Xbox hardware and Xbox content and services, comprising digital transactions, Xbox Game Pass and other subscriptions, video games, third-party video game royalties, cloud services, and advertising, Search and news advertising. Investors beware: ‘Magnificent Seven’ are starting to resemble ‘Nifty 50’ stocks that got crushed in the 1970s market crash\\nDividends\\nDividend Stocks Look Promising for 2024—With the Right Strategy\\nMicrosoft Corp. stock outperforms competitors on strong trading day\\nMarkets\\nBezos, Other Insiders Are Reducing Amazon Stakes.'}, {'url': 'https://www.google.com/finance/quote/MSFT:NASDAQ', 'content': 'Stay updated on Microsoft Corp (MSFT) stock price, news, and analysis with Google Finance. Compare charts, financials, and performance with other Nasdaq-listed companies.'}, {'url': 'https://finance.yahoo.com/quote/MSFT;/', 'content': 'DELL. Date. Close. Open. High. Low. Volume. Find the latest Microsoft Corporation (MSFT;) stock quote, history, news and other vital information to help you with your stock trading and investing.'}, {'url': 'https://www.msn.com/en-us/money/stockdetails/nas-msft/fi-a1xzim', 'content': '35.20. 3.00 (0.74%) 2024-05-15. MSFT is rated \"Strong Buy\" with a 12-month target price of 478.06, a \\u200e17.66% upside from the current price of 406.32. Microsoft Corporation is a technology ...'}]\u001b[0m\u001b[32;1m\u001b[1;3mRelevant Documents: 14\n",
      "Cited Documents: 14\n",
      "Answer: The current share price of Microsoft stock is 406.32.\n",
      "Grounded answer: The current share price of Microsoft stock is <co: 14>406.32</co: 14>.\u001b[0m\n",
      "\n",
      "\u001b[1m> Finished chain.\u001b[0m\n"
     ]
    }
   ],
   "source": [
    "result = agent_executor.invoke(\n",
    "    {\n",
    "        \"input\": \"What is the share value of Microsoft stock today?\",\n",
    "         \"preamble\": preamble,\n",
    "    }\n",
    ")"
   ]
  },
  {
   "cell_type": "code",
   "execution_count": 19,
   "metadata": {},
   "outputs": [
    {
     "data": {
      "text/plain": [
       "'The current share price of Microsoft stock is 406.32.'"
      ]
     },
     "execution_count": 19,
     "metadata": {},
     "output_type": "execute_result"
    }
   ],
   "source": [
    "print(f\"\"\"\n",
    "{result[\"output\"]}\n",
    "\"\"\")"
   ]
  }
 ],
 "metadata": {
  "colab": {
   "provenance": []
  },
  "kernelspec": {
   "display_name": "Python 3 (ipykernel)",
   "language": "python",
   "name": "python3"
  },
  "language_info": {
   "codemirror_mode": {
    "name": "ipython",
    "version": 3
   },
   "file_extension": ".py",
   "mimetype": "text/x-python",
   "name": "python",
   "nbconvert_exporter": "python",
   "pygments_lexer": "ipython3",
   "version": "3.10.0"
  }
 },
 "nbformat": 4,
 "nbformat_minor": 4
}
